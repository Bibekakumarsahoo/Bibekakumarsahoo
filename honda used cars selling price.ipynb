{
 "cells": [
  {
   "cell_type": "code",
   "execution_count": 1,
   "id": "6be4086a",
   "metadata": {},
   "outputs": [],
   "source": [
    "##importing required libraries\n",
    "import numpy as np\n",
    "import pandas as pd\n",
    "import matplotlib.pyplot as plt\n",
    "import seaborn as sns"
   ]
  },
  {
   "cell_type": "code",
   "execution_count": 2,
   "id": "045928e2",
   "metadata": {},
   "outputs": [],
   "source": [
    "df = pd.read_csv(\"honda_car_selling_price.csv\")"
   ]
  },
  {
   "cell_type": "markdown",
   "id": "97ca96cf",
   "metadata": {},
   "source": [
    "# EDA"
   ]
  },
  {
   "cell_type": "code",
   "execution_count": 3,
   "id": "401d7211",
   "metadata": {},
   "outputs": [
    {
     "data": {
      "text/html": [
       "<div>\n",
       "<style scoped>\n",
       "    .dataframe tbody tr th:only-of-type {\n",
       "        vertical-align: middle;\n",
       "    }\n",
       "\n",
       "    .dataframe tbody tr th {\n",
       "        vertical-align: top;\n",
       "    }\n",
       "\n",
       "    .dataframe thead th {\n",
       "        text-align: right;\n",
       "    }\n",
       "</style>\n",
       "<table border=\"1\" class=\"dataframe\">\n",
       "  <thead>\n",
       "    <tr style=\"text-align: right;\">\n",
       "      <th></th>\n",
       "      <th>Year</th>\n",
       "      <th>Kms_driven</th>\n",
       "      <th>Fuel Type</th>\n",
       "      <th>Suspension</th>\n",
       "      <th>Price</th>\n",
       "      <th>Car_model</th>\n",
       "    </tr>\n",
       "  </thead>\n",
       "  <tbody>\n",
       "    <tr>\n",
       "      <th>0</th>\n",
       "      <td>2019</td>\n",
       "      <td>19006</td>\n",
       "      <td>Petrol</td>\n",
       "      <td>Automatic</td>\n",
       "      <td>928999</td>\n",
       "      <td>Honda City V CVT</td>\n",
       "    </tr>\n",
       "    <tr>\n",
       "      <th>1</th>\n",
       "      <td>2021</td>\n",
       "      <td>11936</td>\n",
       "      <td>Petrol</td>\n",
       "      <td>Automatic</td>\n",
       "      <td>1395000</td>\n",
       "      <td>Honda City ZX CVT</td>\n",
       "    </tr>\n",
       "    <tr>\n",
       "      <th>2</th>\n",
       "      <td>2018</td>\n",
       "      <td>29635</td>\n",
       "      <td>Petrol</td>\n",
       "      <td>Automatic</td>\n",
       "      <td>994999</td>\n",
       "      <td>Honda City i-VTEC CVT ZX</td>\n",
       "    </tr>\n",
       "    <tr>\n",
       "      <th>3</th>\n",
       "      <td>2020</td>\n",
       "      <td>16163</td>\n",
       "      <td>Petrol</td>\n",
       "      <td>Automatic</td>\n",
       "      <td>1326000</td>\n",
       "      <td>Honda City ZX CVT</td>\n",
       "    </tr>\n",
       "    <tr>\n",
       "      <th>4</th>\n",
       "      <td>2015</td>\n",
       "      <td>105114</td>\n",
       "      <td>Petrol</td>\n",
       "      <td>Manual</td>\n",
       "      <td>568000</td>\n",
       "      <td>Honda City i VTEC V</td>\n",
       "    </tr>\n",
       "    <tr>\n",
       "      <th>...</th>\n",
       "      <td>...</td>\n",
       "      <td>...</td>\n",
       "      <td>...</td>\n",
       "      <td>...</td>\n",
       "      <td>...</td>\n",
       "      <td>...</td>\n",
       "    </tr>\n",
       "    <tr>\n",
       "      <th>994</th>\n",
       "      <td>2007</td>\n",
       "      <td>120000</td>\n",
       "      <td>Petrol</td>\n",
       "      <td>Manual</td>\n",
       "      <td>85000</td>\n",
       "      <td>Honda City VTEC</td>\n",
       "    </tr>\n",
       "    <tr>\n",
       "      <th>995</th>\n",
       "      <td>2005</td>\n",
       "      <td>110000</td>\n",
       "      <td>Petrol</td>\n",
       "      <td>Manual</td>\n",
       "      <td>60000</td>\n",
       "      <td>Honda City 1.5 GXI</td>\n",
       "    </tr>\n",
       "    <tr>\n",
       "      <th>996</th>\n",
       "      <td>2008</td>\n",
       "      <td>92000</td>\n",
       "      <td>Petrol</td>\n",
       "      <td>Manual</td>\n",
       "      <td>95000</td>\n",
       "      <td>Honda City GXi</td>\n",
       "    </tr>\n",
       "    <tr>\n",
       "      <th>997</th>\n",
       "      <td>2006</td>\n",
       "      <td>186719</td>\n",
       "      <td>Petrol</td>\n",
       "      <td>Manual</td>\n",
       "      <td>90000</td>\n",
       "      <td>Honda City GXi</td>\n",
       "    </tr>\n",
       "    <tr>\n",
       "      <th>998</th>\n",
       "      <td>2006</td>\n",
       "      <td>186719</td>\n",
       "      <td>Petrol</td>\n",
       "      <td>Manual</td>\n",
       "      <td>90000</td>\n",
       "      <td>Honda City GXi</td>\n",
       "    </tr>\n",
       "  </tbody>\n",
       "</table>\n",
       "<p>999 rows × 6 columns</p>\n",
       "</div>"
      ],
      "text/plain": [
       "     Year  Kms_driven Fuel Type Suspension    Price                 Car_model\n",
       "0    2019       19006    Petrol  Automatic   928999          Honda City V CVT\n",
       "1    2021       11936    Petrol  Automatic  1395000         Honda City ZX CVT\n",
       "2    2018       29635    Petrol  Automatic   994999  Honda City i-VTEC CVT ZX\n",
       "3    2020       16163    Petrol  Automatic  1326000         Honda City ZX CVT\n",
       "4    2015      105114    Petrol     Manual   568000       Honda City i VTEC V\n",
       "..    ...         ...       ...        ...      ...                       ...\n",
       "994  2007      120000    Petrol     Manual    85000           Honda City VTEC\n",
       "995  2005      110000    Petrol     Manual    60000        Honda City 1.5 GXI\n",
       "996  2008       92000    Petrol     Manual    95000            Honda City GXi\n",
       "997  2006      186719    Petrol     Manual    90000            Honda City GXi\n",
       "998  2006      186719    Petrol     Manual    90000            Honda City GXi\n",
       "\n",
       "[999 rows x 6 columns]"
      ]
     },
     "execution_count": 3,
     "metadata": {},
     "output_type": "execute_result"
    }
   ],
   "source": [
    "df"
   ]
  },
  {
   "cell_type": "code",
   "execution_count": 4,
   "id": "e6b86396",
   "metadata": {},
   "outputs": [
    {
     "name": "stdout",
     "output_type": "stream",
     "text": [
      "<class 'pandas.core.frame.DataFrame'>\n",
      "RangeIndex: 999 entries, 0 to 998\n",
      "Data columns (total 6 columns):\n",
      " #   Column      Non-Null Count  Dtype \n",
      "---  ------      --------------  ----- \n",
      " 0   Year        999 non-null    int64 \n",
      " 1   Kms_driven  999 non-null    int64 \n",
      " 2   Fuel Type   999 non-null    object\n",
      " 3   Suspension  999 non-null    object\n",
      " 4   Price       999 non-null    int64 \n",
      " 5   Car_model   999 non-null    object\n",
      "dtypes: int64(3), object(3)\n",
      "memory usage: 47.0+ KB\n"
     ]
    }
   ],
   "source": [
    "#basic information of data\n",
    "df.info()"
   ]
  },
  {
   "cell_type": "code",
   "execution_count": 5,
   "id": "e52432b5",
   "metadata": {},
   "outputs": [
    {
     "data": {
      "text/html": [
       "<div>\n",
       "<style scoped>\n",
       "    .dataframe tbody tr th:only-of-type {\n",
       "        vertical-align: middle;\n",
       "    }\n",
       "\n",
       "    .dataframe tbody tr th {\n",
       "        vertical-align: top;\n",
       "    }\n",
       "\n",
       "    .dataframe thead th {\n",
       "        text-align: right;\n",
       "    }\n",
       "</style>\n",
       "<table border=\"1\" class=\"dataframe\">\n",
       "  <thead>\n",
       "    <tr style=\"text-align: right;\">\n",
       "      <th></th>\n",
       "      <th>Year</th>\n",
       "      <th>Kms_driven</th>\n",
       "      <th>Price</th>\n",
       "    </tr>\n",
       "  </thead>\n",
       "  <tbody>\n",
       "    <tr>\n",
       "      <th>count</th>\n",
       "      <td>999.000000</td>\n",
       "      <td>9.990000e+02</td>\n",
       "      <td>9.990000e+02</td>\n",
       "    </tr>\n",
       "    <tr>\n",
       "      <th>mean</th>\n",
       "      <td>2014.717718</td>\n",
       "      <td>6.607667e+04</td>\n",
       "      <td>5.530370e+05</td>\n",
       "    </tr>\n",
       "    <tr>\n",
       "      <th>std</th>\n",
       "      <td>3.713756</td>\n",
       "      <td>5.310468e+04</td>\n",
       "      <td>3.030851e+05</td>\n",
       "    </tr>\n",
       "    <tr>\n",
       "      <th>min</th>\n",
       "      <td>2000.000000</td>\n",
       "      <td>1.425000e+03</td>\n",
       "      <td>4.500000e+04</td>\n",
       "    </tr>\n",
       "    <tr>\n",
       "      <th>25%</th>\n",
       "      <td>2013.000000</td>\n",
       "      <td>3.534100e+04</td>\n",
       "      <td>3.265000e+05</td>\n",
       "    </tr>\n",
       "    <tr>\n",
       "      <th>50%</th>\n",
       "      <td>2015.000000</td>\n",
       "      <td>5.990000e+04</td>\n",
       "      <td>5.099990e+05</td>\n",
       "    </tr>\n",
       "    <tr>\n",
       "      <th>75%</th>\n",
       "      <td>2017.000000</td>\n",
       "      <td>8.528750e+04</td>\n",
       "      <td>7.000000e+05</td>\n",
       "    </tr>\n",
       "    <tr>\n",
       "      <th>max</th>\n",
       "      <td>2023.000000</td>\n",
       "      <td>1.100000e+06</td>\n",
       "      <td>2.650000e+06</td>\n",
       "    </tr>\n",
       "  </tbody>\n",
       "</table>\n",
       "</div>"
      ],
      "text/plain": [
       "              Year    Kms_driven         Price\n",
       "count   999.000000  9.990000e+02  9.990000e+02\n",
       "mean   2014.717718  6.607667e+04  5.530370e+05\n",
       "std       3.713756  5.310468e+04  3.030851e+05\n",
       "min    2000.000000  1.425000e+03  4.500000e+04\n",
       "25%    2013.000000  3.534100e+04  3.265000e+05\n",
       "50%    2015.000000  5.990000e+04  5.099990e+05\n",
       "75%    2017.000000  8.528750e+04  7.000000e+05\n",
       "max    2023.000000  1.100000e+06  2.650000e+06"
      ]
     },
     "execution_count": 5,
     "metadata": {},
     "output_type": "execute_result"
    }
   ],
   "source": [
    "#statistical summary\n",
    "df.describe()"
   ]
  },
  {
   "cell_type": "code",
   "execution_count": 6,
   "id": "12cc9619",
   "metadata": {},
   "outputs": [],
   "source": [
    "#creating a copy of the data to do analysis and cleaning on it\n",
    "df_copy = df.copy()"
   ]
  },
  {
   "cell_type": "code",
   "execution_count": 7,
   "id": "242f0d30",
   "metadata": {},
   "outputs": [
    {
     "data": {
      "text/plain": [
       "Year          0\n",
       "Kms_driven    0\n",
       "Fuel Type     0\n",
       "Suspension    0\n",
       "Price         0\n",
       "Car_model     0\n",
       "dtype: int64"
      ]
     },
     "execution_count": 7,
     "metadata": {},
     "output_type": "execute_result"
    }
   ],
   "source": [
    "#checking for missing values\n",
    "df_copy.isnull().sum()"
   ]
  },
  {
   "cell_type": "code",
   "execution_count": 8,
   "id": "7c5a9464",
   "metadata": {},
   "outputs": [
    {
     "name": "stderr",
     "output_type": "stream",
     "text": [
      "C:\\Users\\bibek\\AppData\\Local\\Temp\\ipykernel_2536\\1499795588.py:2: FutureWarning: The default value of numeric_only in DataFrame.corr is deprecated. In a future version, it will default to False. Select only valid columns or specify the value of numeric_only to silence this warning.\n",
      "  corr_matrix = df_copy.corr()\n"
     ]
    },
    {
     "data": {
      "text/plain": [
       "<Axes: >"
      ]
     },
     "execution_count": 8,
     "metadata": {},
     "output_type": "execute_result"
    },
    {
     "data": {
      "image/png": "[encoded data removed]",
      "text/plain": [
       "<Figure size 640x480 with 2 Axes>"
      ]
     },
     "metadata": {},
     "output_type": "display_data"
    }
   ],
   "source": [
    "#correlation matix\n",
    "corr_matrix = df_copy.corr()\n",
    "\n",
    "sns.heatmap(corr_matrix, annot=True, cmap='coolwarm')"
   ]
  },
  {
   "cell_type": "code",
   "execution_count": 9,
   "id": "8322e321",
   "metadata": {},
   "outputs": [],
   "source": [
    "#droping unnessary columns\n",
    "df_copy.drop(\"Car_model\", axis = 1, inplace = True)"
   ]
  },
  {
   "cell_type": "code",
   "execution_count": 10,
   "id": "a43f2238",
   "metadata": {},
   "outputs": [
    {
     "data": {
      "text/html": [
       "<div>\n",
       "<style scoped>\n",
       "    .dataframe tbody tr th:only-of-type {\n",
       "        vertical-align: middle;\n",
       "    }\n",
       "\n",
       "    .dataframe tbody tr th {\n",
       "        vertical-align: top;\n",
       "    }\n",
       "\n",
       "    .dataframe thead th {\n",
       "        text-align: right;\n",
       "    }\n",
       "</style>\n",
       "<table border=\"1\" class=\"dataframe\">\n",
       "  <thead>\n",
       "    <tr style=\"text-align: right;\">\n",
       "      <th></th>\n",
       "      <th>Year</th>\n",
       "      <th>Kms_driven</th>\n",
       "      <th>Fuel Type</th>\n",
       "      <th>Suspension</th>\n",
       "      <th>Price</th>\n",
       "    </tr>\n",
       "  </thead>\n",
       "  <tbody>\n",
       "    <tr>\n",
       "      <th>0</th>\n",
       "      <td>2019</td>\n",
       "      <td>19006</td>\n",
       "      <td>Petrol</td>\n",
       "      <td>Automatic</td>\n",
       "      <td>928999</td>\n",
       "    </tr>\n",
       "    <tr>\n",
       "      <th>1</th>\n",
       "      <td>2021</td>\n",
       "      <td>11936</td>\n",
       "      <td>Petrol</td>\n",
       "      <td>Automatic</td>\n",
       "      <td>1395000</td>\n",
       "    </tr>\n",
       "  </tbody>\n",
       "</table>\n",
       "</div>"
      ],
      "text/plain": [
       "   Year  Kms_driven Fuel Type Suspension    Price\n",
       "0  2019       19006    Petrol  Automatic   928999\n",
       "1  2021       11936    Petrol  Automatic  1395000"
      ]
     },
     "execution_count": 10,
     "metadata": {},
     "output_type": "execute_result"
    }
   ],
   "source": [
    "df_copy.head(2)"
   ]
  },
  {
   "cell_type": "code",
   "execution_count": 11,
   "id": "32f2ddbe",
   "metadata": {},
   "outputs": [
    {
     "data": {
      "text/plain": [
       "29"
      ]
     },
     "execution_count": 11,
     "metadata": {},
     "output_type": "execute_result"
    }
   ],
   "source": [
    "#check for duplicate values\n",
    "df_copy.duplicated().sum()"
   ]
  },
  {
   "cell_type": "code",
   "execution_count": 12,
   "id": "c0e68043",
   "metadata": {},
   "outputs": [],
   "source": [
    "#droping duplicate values\n",
    "df_copy.drop_duplicates(inplace = True)"
   ]
  },
  {
   "cell_type": "code",
   "execution_count": 13,
   "id": "752618a1",
   "metadata": {},
   "outputs": [
    {
     "data": {
      "text/plain": [
       "0"
      ]
     },
     "execution_count": 13,
     "metadata": {},
     "output_type": "execute_result"
    }
   ],
   "source": [
    "df_copy.duplicated().sum()"
   ]
  },
  {
   "cell_type": "code",
   "execution_count": 14,
   "id": "19960d25",
   "metadata": {},
   "outputs": [
    {
     "data": {
      "image/png": "[encoded data removed]",
      "text/plain": [
       "<Figure size 640x480 with 1 Axes>"
      ]
     },
     "metadata": {},
     "output_type": "display_data"
    }
   ],
   "source": [
    "#boxplot to identify the outliers\n",
    "sns.boxplot(df_copy)\n",
    "plt.show()"
   ]
  },
  {
   "cell_type": "code",
   "execution_count": 15,
   "id": "875c758b",
   "metadata": {},
   "outputs": [
    {
     "name": "stderr",
     "output_type": "stream",
     "text": [
      "C:\\Users\\bibek\\AppData\\Local\\Temp\\ipykernel_2536\\310791612.py:2: FutureWarning: The default value of numeric_only in DataFrame.quantile is deprecated. In a future version, it will default to False. Select only valid columns or specify the value of numeric_only to silence this warning.\n",
      "  Q1 = df_copy.quantile(0.25)\n",
      "C:\\Users\\bibek\\AppData\\Local\\Temp\\ipykernel_2536\\310791612.py:3: FutureWarning: The default value of numeric_only in DataFrame.quantile is deprecated. In a future version, it will default to False. Select only valid columns or specify the value of numeric_only to silence this warning.\n",
      "  Q3 = df_copy.quantile(0.75)\n"
     ]
    }
   ],
   "source": [
    "# Calculate the IQR for each column\n",
    "Q1 = df_copy.quantile(0.25)\n",
    "Q3 = df_copy.quantile(0.75)\n",
    "IQR = Q3 - Q1\n",
    "\n",
    "# Define the lower and upper bounds for each column\n",
    "lower_bound = Q1 - 1.5 * IQR\n",
    "upper_bound = Q3 + 1.5 * IQR\n",
    "\n",
    "# Impute outliers with lower or upper bound values for each column\n",
    "for i in df_copy.columns:\n",
    "    if df_copy[i].dtype != object:\n",
    "        lower = lower_bound[i]\n",
    "        upper = upper_bound[i]\n",
    "        df_copy[i] = np.where(df_copy[i] < lower, lower, df_copy[i])\n",
    "        df_copy[i] = np.where(df_copy[i] > upper, upper, df_copy[i])"
   ]
  },
  {
   "cell_type": "code",
   "execution_count": 16,
   "id": "93135234",
   "metadata": {},
   "outputs": [
    {
     "data": {
      "image/png": "[encoded data removed]",
      "text/plain": [
       "<Figure size 640x480 with 1 Axes>"
      ]
     },
     "metadata": {},
     "output_type": "display_data"
    }
   ],
   "source": [
    "sns.boxplot(df_copy)\n",
    "plt.show()"
   ]
  },
  {
   "cell_type": "code",
   "execution_count": 17,
   "id": "d0dbe812",
   "metadata": {},
   "outputs": [],
   "source": [
    "df_encoded = pd.get_dummies(df_copy, columns = [\"Fuel Type\",\"Suspension\"])"
   ]
  },
  {
   "cell_type": "code",
   "execution_count": 18,
   "id": "1a785491",
   "metadata": {},
   "outputs": [
    {
     "data": {
      "text/html": [
       "<div>\n",
       "<style scoped>\n",
       "    .dataframe tbody tr th:only-of-type {\n",
       "        vertical-align: middle;\n",
       "    }\n",
       "\n",
       "    .dataframe tbody tr th {\n",
       "        vertical-align: top;\n",
       "    }\n",
       "\n",
       "    .dataframe thead th {\n",
       "        text-align: right;\n",
       "    }\n",
       "</style>\n",
       "<table border=\"1\" class=\"dataframe\">\n",
       "  <thead>\n",
       "    <tr style=\"text-align: right;\">\n",
       "      <th></th>\n",
       "      <th>Year</th>\n",
       "      <th>Kms_driven</th>\n",
       "      <th>Price</th>\n",
       "      <th>Fuel Type_CNG</th>\n",
       "      <th>Fuel Type_Diesel</th>\n",
       "      <th>Fuel Type_Petrol</th>\n",
       "      <th>Suspension_Automatic</th>\n",
       "      <th>Suspension_Manual</th>\n",
       "    </tr>\n",
       "  </thead>\n",
       "  <tbody>\n",
       "    <tr>\n",
       "      <th>0</th>\n",
       "      <td>2019.0</td>\n",
       "      <td>19006.000</td>\n",
       "      <td>928999.0</td>\n",
       "      <td>0</td>\n",
       "      <td>0</td>\n",
       "      <td>1</td>\n",
       "      <td>1</td>\n",
       "      <td>0</td>\n",
       "    </tr>\n",
       "    <tr>\n",
       "      <th>1</th>\n",
       "      <td>2021.0</td>\n",
       "      <td>11936.000</td>\n",
       "      <td>1255000.0</td>\n",
       "      <td>0</td>\n",
       "      <td>0</td>\n",
       "      <td>1</td>\n",
       "      <td>1</td>\n",
       "      <td>0</td>\n",
       "    </tr>\n",
       "    <tr>\n",
       "      <th>2</th>\n",
       "      <td>2018.0</td>\n",
       "      <td>29635.000</td>\n",
       "      <td>994999.0</td>\n",
       "      <td>0</td>\n",
       "      <td>0</td>\n",
       "      <td>1</td>\n",
       "      <td>1</td>\n",
       "      <td>0</td>\n",
       "    </tr>\n",
       "    <tr>\n",
       "      <th>3</th>\n",
       "      <td>2020.0</td>\n",
       "      <td>16163.000</td>\n",
       "      <td>1255000.0</td>\n",
       "      <td>0</td>\n",
       "      <td>0</td>\n",
       "      <td>1</td>\n",
       "      <td>1</td>\n",
       "      <td>0</td>\n",
       "    </tr>\n",
       "    <tr>\n",
       "      <th>4</th>\n",
       "      <td>2015.0</td>\n",
       "      <td>105114.000</td>\n",
       "      <td>568000.0</td>\n",
       "      <td>0</td>\n",
       "      <td>0</td>\n",
       "      <td>1</td>\n",
       "      <td>0</td>\n",
       "      <td>1</td>\n",
       "    </tr>\n",
       "    <tr>\n",
       "      <th>...</th>\n",
       "      <td>...</td>\n",
       "      <td>...</td>\n",
       "      <td>...</td>\n",
       "      <td>...</td>\n",
       "      <td>...</td>\n",
       "      <td>...</td>\n",
       "      <td>...</td>\n",
       "      <td>...</td>\n",
       "    </tr>\n",
       "    <tr>\n",
       "      <th>993</th>\n",
       "      <td>2008.0</td>\n",
       "      <td>39460.000</td>\n",
       "      <td>80000.0</td>\n",
       "      <td>0</td>\n",
       "      <td>0</td>\n",
       "      <td>1</td>\n",
       "      <td>0</td>\n",
       "      <td>1</td>\n",
       "    </tr>\n",
       "    <tr>\n",
       "      <th>994</th>\n",
       "      <td>2007.0</td>\n",
       "      <td>120000.000</td>\n",
       "      <td>85000.0</td>\n",
       "      <td>0</td>\n",
       "      <td>0</td>\n",
       "      <td>1</td>\n",
       "      <td>0</td>\n",
       "      <td>1</td>\n",
       "    </tr>\n",
       "    <tr>\n",
       "      <th>995</th>\n",
       "      <td>2007.0</td>\n",
       "      <td>110000.000</td>\n",
       "      <td>60000.0</td>\n",
       "      <td>0</td>\n",
       "      <td>0</td>\n",
       "      <td>1</td>\n",
       "      <td>0</td>\n",
       "      <td>1</td>\n",
       "    </tr>\n",
       "    <tr>\n",
       "      <th>996</th>\n",
       "      <td>2008.0</td>\n",
       "      <td>92000.000</td>\n",
       "      <td>95000.0</td>\n",
       "      <td>0</td>\n",
       "      <td>0</td>\n",
       "      <td>1</td>\n",
       "      <td>0</td>\n",
       "      <td>1</td>\n",
       "    </tr>\n",
       "    <tr>\n",
       "      <th>997</th>\n",
       "      <td>2007.0</td>\n",
       "      <td>160423.125</td>\n",
       "      <td>90000.0</td>\n",
       "      <td>0</td>\n",
       "      <td>0</td>\n",
       "      <td>1</td>\n",
       "      <td>0</td>\n",
       "      <td>1</td>\n",
       "    </tr>\n",
       "  </tbody>\n",
       "</table>\n",
       "<p>970 rows × 8 columns</p>\n",
       "</div>"
      ],
      "text/plain": [
       "       Year  Kms_driven      Price  Fuel Type_CNG  Fuel Type_Diesel  \\\n",
       "0    2019.0   19006.000   928999.0              0                 0   \n",
       "1    2021.0   11936.000  1255000.0              0                 0   \n",
       "2    2018.0   29635.000   994999.0              0                 0   \n",
       "3    2020.0   16163.000  1255000.0              0                 0   \n",
       "4    2015.0  105114.000   568000.0              0                 0   \n",
       "..      ...         ...        ...            ...               ...   \n",
       "993  2008.0   39460.000    80000.0              0                 0   \n",
       "994  2007.0  120000.000    85000.0              0                 0   \n",
       "995  2007.0  110000.000    60000.0              0                 0   \n",
       "996  2008.0   92000.000    95000.0              0                 0   \n",
       "997  2007.0  160423.125    90000.0              0                 0   \n",
       "\n",
       "     Fuel Type_Petrol  Suspension_Automatic  Suspension_Manual  \n",
       "0                   1                     1                  0  \n",
       "1                   1                     1                  0  \n",
       "2                   1                     1                  0  \n",
       "3                   1                     1                  0  \n",
       "4                   1                     0                  1  \n",
       "..                ...                   ...                ...  \n",
       "993                 1                     0                  1  \n",
       "994                 1                     0                  1  \n",
       "995                 1                     0                  1  \n",
       "996                 1                     0                  1  \n",
       "997                 1                     0                  1  \n",
       "\n",
       "[970 rows x 8 columns]"
      ]
     },
     "execution_count": 18,
     "metadata": {},
     "output_type": "execute_result"
    }
   ],
   "source": [
    "df_encoded"
   ]
  },
  {
   "cell_type": "code",
   "execution_count": 19,
   "id": "cd4063b0",
   "metadata": {},
   "outputs": [],
   "source": [
    "#split the data in independent and dependent variable\n",
    "X = df_encoded.drop(\"Price\", axis = 1)\n",
    "y = df_encoded[[\"Price\"]]"
   ]
  },
  {
   "cell_type": "code",
   "execution_count": 20,
   "id": "8d04fdad",
   "metadata": {},
   "outputs": [],
   "source": [
    "#split data into train and test\n",
    "from sklearn.model_selection import train_test_split\n",
    "X_train,X_test,y_train,y_test = train_test_split(X,y, test_size = 0.30, random_state = 1)"
   ]
  },
  {
   "cell_type": "code",
   "execution_count": 30,
   "id": "e8f03b49",
   "metadata": {},
   "outputs": [],
   "source": [
    "#scale the data\n",
    "from sklearn.preprocessing import MinMaxScaler\n",
    "\n",
    "scaler = MinMaxScaler(feature_range = (0,1))\n",
    "X_train_scaled = scaler.fit_transform(X_train)\n",
    "X_test_scaled = scaler.fit_transform(X_test)"
   ]
  },
  {
   "cell_type": "markdown",
   "id": "6792f82f",
   "metadata": {},
   "source": [
    "## Linear Regression Model"
   ]
  },
  {
   "cell_type": "code",
   "execution_count": 22,
   "id": "17b0af7c",
   "metadata": {},
   "outputs": [],
   "source": [
    "#import linearregression\n",
    "from sklearn.linear_model import LinearRegression"
   ]
  },
  {
   "cell_type": "code",
   "execution_count": 23,
   "id": "6d796397",
   "metadata": {},
   "outputs": [],
   "source": [
    "model = LinearRegression()"
   ]
  },
  {
   "cell_type": "code",
   "execution_count": 24,
   "id": "1e1b2f25",
   "metadata": {},
   "outputs": [
    {
     "data": {
      "text/html": [
       "<style>#sk-container-id-1 {color: black;background-color: white;}#sk-container-id-1 pre{padding: 0;}#sk-container-id-1 div.sk-toggleable {background-color: white;}#sk-container-id-1 label.sk-toggleable__label {cursor: pointer;display: block;width: 100%;margin-bottom: 0;padding: 0.3em;box-sizing: border-box;text-align: center;}#sk-container-id-1 label.sk-toggleable__label-arrow:before {content: \"▸\";float: left;margin-right: 0.25em;color: #696969;}#sk-container-id-1 label.sk-toggleable__label-arrow:hover:before {color: black;}#sk-container-id-1 div.sk-estimator:hover label.sk-toggleable__label-arrow:before {color: black;}#sk-container-id-1 div.sk-toggleable__content {max-height: 0;max-width: 0;overflow: hidden;text-align: left;background-color: #f0f8ff;}#sk-container-id-1 div.sk-toggleable__content pre {margin: 0.2em;color: black;border-radius: 0.25em;background-color: #f0f8ff;}#sk-container-id-1 input.sk-toggleable__control:checked~div.sk-toggleable__content {max-height: 200px;max-width: 100%;overflow: auto;}#sk-container-id-1 input.sk-toggleable__control:checked~label.sk-toggleable__label-arrow:before {content: \"▾\";}#sk-container-id-1 div.sk-estimator input.sk-toggleable__control:checked~label.sk-toggleable__label {background-color: #d4ebff;}#sk-container-id-1 div.sk-label input.sk-toggleable__control:checked~label.sk-toggleable__label {background-color: #d4ebff;}#sk-container-id-1 input.sk-hidden--visually {border: 0;clip: rect(1px 1px 1px 1px);clip: rect(1px, 1px, 1px, 1px);height: 1px;margin: -1px;overflow: hidden;padding: 0;position: absolute;width: 1px;}#sk-container-id-1 div.sk-estimator {font-family: monospace;background-color: #f0f8ff;border: 1px dotted black;border-radius: 0.25em;box-sizing: border-box;margin-bottom: 0.5em;}#sk-container-id-1 div.sk-estimator:hover {background-color: #d4ebff;}#sk-container-id-1 div.sk-parallel-item::after {content: \"\";width: 100%;border-bottom: 1px solid gray;flex-grow: 1;}#sk-container-id-1 div.sk-label:hover label.sk-toggleable__label {background-color: #d4ebff;}#sk-container-id-1 div.sk-serial::before {content: \"\";position: absolute;border-left: 1px solid gray;box-sizing: border-box;top: 0;bottom: 0;left: 50%;z-index: 0;}#sk-container-id-1 div.sk-serial {display: flex;flex-direction: column;align-items: center;background-color: white;padding-right: 0.2em;padding-left: 0.2em;position: relative;}#sk-container-id-1 div.sk-item {position: relative;z-index: 1;}#sk-container-id-1 div.sk-parallel {display: flex;align-items: stretch;justify-content: center;background-color: white;position: relative;}#sk-container-id-1 div.sk-item::before, #sk-container-id-1 div.sk-parallel-item::before {content: \"\";position: absolute;border-left: 1px solid gray;box-sizing: border-box;top: 0;bottom: 0;left: 50%;z-index: -1;}#sk-container-id-1 div.sk-parallel-item {display: flex;flex-direction: column;z-index: 1;position: relative;background-color: white;}#sk-container-id-1 div.sk-parallel-item:first-child::after {align-self: flex-end;width: 50%;}#sk-container-id-1 div.sk-parallel-item:last-child::after {align-self: flex-start;width: 50%;}#sk-container-id-1 div.sk-parallel-item:only-child::after {width: 0;}#sk-container-id-1 div.sk-dashed-wrapped {border: 1px dashed gray;margin: 0 0.4em 0.5em 0.4em;box-sizing: border-box;padding-bottom: 0.4em;background-color: white;}#sk-container-id-1 div.sk-label label {font-family: monospace;font-weight: bold;display: inline-block;line-height: 1.2em;}#sk-container-id-1 div.sk-label-container {text-align: center;}#sk-container-id-1 div.sk-container {/* jupyter's `normalize.less` sets `[hidden] { display: none; }` but bootstrap.min.css set `[hidden] { display: none !important; }` so we also need the `!important` here to be able to override the default hidden behavior on the sphinx rendered scikit-learn.org. See: https://github.com/scikit-learn/scikit-learn/issues/21755 */display: inline-block !important;position: relative;}#sk-container-id-1 div.sk-text-repr-fallback {display: none;}</style><div id=\"sk-container-id-1\" class=\"sk-top-container\"><div class=\"sk-text-repr-fallback\"><pre>LinearRegression()</pre><b>In a Jupyter environment, please rerun this cell to show the HTML representation or trust the notebook. <br />On GitHub, the HTML representation is unable to render, please try loading this page with nbviewer.org.</b></div><div class=\"sk-container\" hidden><div class=\"sk-item\"><div class=\"sk-estimator sk-toggleable\"><input class=\"sk-toggleable__control sk-hidden--visually\" id=\"sk-estimator-id-1\" type=\"checkbox\" checked><label for=\"sk-estimator-id-1\" class=\"sk-toggleable__label sk-toggleable__label-arrow\">LinearRegression</label><div class=\"sk-toggleable__content\"><pre>LinearRegression()</pre></div></div></div></div></div>"
      ],
      "text/plain": [
       "LinearRegression()"
      ]
     },
     "execution_count": 24,
     "metadata": {},
     "output_type": "execute_result"
    }
   ],
   "source": [
    "#fit linear model\n",
    "model.fit(X_train_scaled, y_train)"
   ]
  },
  {
   "cell_type": "code",
   "execution_count": 25,
   "id": "d67944cb",
   "metadata": {},
   "outputs": [
    {
     "data": {
      "text/plain": [
       "0.7246386881833078"
      ]
     },
     "execution_count": 25,
     "metadata": {},
     "output_type": "execute_result"
    }
   ],
   "source": [
    "#model score\n",
    "model.score(X_train_scaled, y_train)"
   ]
  },
  {
   "cell_type": "code",
   "execution_count": 31,
   "id": "166d8b73",
   "metadata": {},
   "outputs": [
    {
     "data": {
      "text/plain": [
       "0.7152872532048516"
      ]
     },
     "execution_count": 31,
     "metadata": {},
     "output_type": "execute_result"
    }
   ],
   "source": [
    "model.score(X_test_scaled, y_test)"
   ]
  },
  {
   "cell_type": "code",
   "execution_count": 26,
   "id": "561c8cf0",
   "metadata": {
    "scrolled": true
   },
   "outputs": [
    {
     "data": {
      "text/plain": [
       "array([[ 443363.35637021],\n",
       "       [ 696298.27658087],\n",
       "       [ 120419.20268652],\n",
       "       [ 818756.30664322],\n",
       "       [ 253724.71662442],\n",
       "       [ 619697.82773645],\n",
       "       [ 819336.01148401],\n",
       "       [ 542011.3964335 ],\n",
       "       [ 461460.39019194],\n",
       "       [ 508257.27482651],\n",
       "       [ 440144.55218338],\n",
       "       [ 959292.10392748],\n",
       "       [ 373052.8341749 ],\n",
       "       [ 577932.25046941],\n",
       "       [ 174901.3974352 ],\n",
       "       [ 440901.56017808],\n",
       "       [ 820057.63448699],\n",
       "       [ 691501.4426987 ],\n",
       "       [ 190683.62262445],\n",
       "       [ 514469.27959996],\n",
       "       [ 808926.31428705],\n",
       "       [ 642896.33556712],\n",
       "       [ 243032.10865631],\n",
       "       [ 193716.66056474],\n",
       "       [ 504275.23630599],\n",
       "       [ 533292.38878665],\n",
       "       [ 524551.19245319],\n",
       "       [ 379028.91742308],\n",
       "       [ 966079.4942933 ],\n",
       "       [ 371397.01944339],\n",
       "       [1014308.03437311],\n",
       "       [ 382616.88423583],\n",
       "       [ 747948.27844054],\n",
       "       [ 619629.64531505],\n",
       "       [ 626322.62925123],\n",
       "       [ 569230.68290689],\n",
       "       [ 720447.01906275],\n",
       "       [ 474696.0976095 ],\n",
       "       [ 800817.23390636],\n",
       "       [ 814745.57597251],\n",
       "       [ 959384.9677684 ],\n",
       "       [ 194333.69605254],\n",
       "       [1008039.70935226],\n",
       "       [ 715589.40718504],\n",
       "       [ 747027.66149274],\n",
       "       [ 551639.30966742],\n",
       "       [1081369.11457612],\n",
       "       [ 406926.05594454],\n",
       "       [1151165.82161432],\n",
       "       [ 842782.91300303],\n",
       "       [ 691588.75322022],\n",
       "       [ 882031.56561082],\n",
       "       [ 266349.43272289],\n",
       "       [ 633486.71978235],\n",
       "       [ 571880.54180926],\n",
       "       [ 453138.91648991],\n",
       "       [ 510092.95540272],\n",
       "       [ 312407.9974918 ],\n",
       "       [1028888.27443212],\n",
       "       [ 514781.80807453],\n",
       "       [ 194333.69605254],\n",
       "       [ 963919.870086  ],\n",
       "       [ 571149.66327396],\n",
       "       [ 595685.59552444],\n",
       "       [ 495284.10369549],\n",
       "       [ 374708.34038867],\n",
       "       [ 718674.58462404],\n",
       "       [ 467960.85905593],\n",
       "       [ 695803.27561995],\n",
       "       [ 519901.79314813],\n",
       "       [ 565346.75302893],\n",
       "       [ 438487.7173498 ],\n",
       "       [ 954664.33776897],\n",
       "       [ 684801.3628544 ],\n",
       "       [ 200504.05093055],\n",
       "       [ 250540.81350737],\n",
       "       [ 336658.89625143],\n",
       "       [ 458786.15838781],\n",
       "       [ 501664.25063935],\n",
       "       [ 645939.2829797 ],\n",
       "       [ 540771.31551866],\n",
       "       [1006206.496918  ],\n",
       "       [1021333.29191948],\n",
       "       [ 507933.33119542],\n",
       "       [ 816288.16469201],\n",
       "       [ 529157.32546515],\n",
       "       [ 190256.32554914],\n",
       "       [1025602.25194183],\n",
       "       [ 200970.22124159],\n",
       "       [ 328316.26793861],\n",
       "       [ 681296.90980144],\n",
       "       [ 445369.822663  ],\n",
       "       [ 447434.73192293],\n",
       "       [ 435809.78333275],\n",
       "       [ 393374.72256144],\n",
       "       [ 377413.73248494],\n",
       "       [ 692339.68540888],\n",
       "       [ 623300.69794972],\n",
       "       [ 395259.49436344],\n",
       "       [ 787947.12001533],\n",
       "       [ 899214.63137542],\n",
       "       [ 689257.59314731],\n",
       "       [ 465165.0712607 ],\n",
       "       [ 431083.29149619],\n",
       "       [ 831816.03276059],\n",
       "       [ 395266.11173576],\n",
       "       [ 554548.6319924 ],\n",
       "       [ 694056.89517143],\n",
       "       [ 923665.72124633],\n",
       "       [ 959137.84505553],\n",
       "       [ 946890.44615786],\n",
       "       [ 431083.29149619],\n",
       "       [ 381721.56574303],\n",
       "       [ 454733.46930393],\n",
       "       [ 684059.37768032],\n",
       "       [ 622591.10713875],\n",
       "       [ 326596.28151636],\n",
       "       [ 446494.50295306],\n",
       "       [1004108.26774173],\n",
       "       [ 315791.51158916],\n",
       "       [ 379028.91742308],\n",
       "       [ 372862.17020917],\n",
       "       [ 892931.66752088],\n",
       "       [ 691434.49434827],\n",
       "       [ 329922.7198311 ],\n",
       "       [ 483868.94717116],\n",
       "       [ 195876.28477204],\n",
       "       [ 624302.76358191],\n",
       "       [ 659489.96242283],\n",
       "       [ 465573.54875363],\n",
       "       [ 204693.27487529],\n",
       "       [ 178554.24752299],\n",
       "       [ 311367.67565937],\n",
       "       [ 675948.44619317],\n",
       "       [ 663420.78699787],\n",
       "       [ 527099.51211333],\n",
       "       [  73915.27679511],\n",
       "       [ 501695.71944923],\n",
       "       [ 837680.6465544 ],\n",
       "       [ 526072.14802614],\n",
       "       [ 898176.46916719],\n",
       "       [ 776175.6624013 ],\n",
       "       [ 189236.67440555],\n",
       "       [ 257674.36078184],\n",
       "       [ 708486.44007172],\n",
       "       [ 895851.1340269 ],\n",
       "       [ 758193.97731128],\n",
       "       [ 696833.55486653],\n",
       "       [ 112709.65278419],\n",
       "       [ 706333.87486801],\n",
       "       [ 497109.60318615],\n",
       "       [ 639047.8852297 ],\n",
       "       [ 511018.50863443],\n",
       "       [ 318167.88527073],\n",
       "       [ 649127.19682742],\n",
       "       [ 455700.9809488 ],\n",
       "       [ 499084.11674711],\n",
       "       [ 491181.43473709],\n",
       "       [ 477099.45083449],\n",
       "       [ 627830.97250116],\n",
       "       [  58219.12805642],\n",
       "       [ 565702.1654699 ],\n",
       "       [ 632234.44625986],\n",
       "       [ 613674.94434002],\n",
       "       [ 623994.24583801],\n",
       "       [ 180450.397577  ],\n",
       "       [ 710798.16352676],\n",
       "       [ 248550.25702372],\n",
       "       [ 448387.43471609],\n",
       "       [ 564662.7691907 ],\n",
       "       [ 386464.23361581],\n",
       "       [ 631090.15394773],\n",
       "       [ 476810.99905747],\n",
       "       [ 258225.99050794],\n",
       "       [ 814783.83217275],\n",
       "       [ 702180.33738638],\n",
       "       [ 964367.5293324 ],\n",
       "       [ 315022.37685362],\n",
       "       [ 468041.69070483],\n",
       "       [ 231976.99233911],\n",
       "       [  78016.09464704],\n",
       "       [ 596443.31510346],\n",
       "       [ 778968.98205458],\n",
       "       [ 253906.74209333],\n",
       "       [ 274328.01009791],\n",
       "       [ 755413.9608255 ],\n",
       "       [ 765309.66746112],\n",
       "       [ 693072.27655094],\n",
       "       [ 184951.97997826],\n",
       "       [ 116249.5853777 ],\n",
       "       [ 866885.81252724],\n",
       "       [ 678043.590192  ],\n",
       "       [ 821689.07631674],\n",
       "       [ 559003.31969658],\n",
       "       [ 672341.87376697],\n",
       "       [ 898936.31146591],\n",
       "       [ 254832.29532503],\n",
       "       [ 448174.07355085],\n",
       "       [ 536118.10280304],\n",
       "       [ 443886.77786807],\n",
       "       [ 519901.79314813],\n",
       "       [  64389.48293443],\n",
       "       [ 375072.69984422],\n",
       "       [ 648313.29011453],\n",
       "       [ 383233.91972363],\n",
       "       [  58219.12805642],\n",
       "       [ 453623.42246137],\n",
       "       [ 962469.83668966],\n",
       "       [1087905.68001614],\n",
       "       [ 525771.68864807],\n",
       "       [1025055.86701738],\n",
       "       [ 691588.75322022],\n",
       "       [ 164893.96881158],\n",
       "       [ 448775.55003792],\n",
       "       [ 513061.82165228],\n",
       "       [ 834768.54756972],\n",
       "       [ 915997.63890784],\n",
       "       [ 826259.31967519],\n",
       "       [ 507394.04217908],\n",
       "       [ 878911.217149  ],\n",
       "       [ 754119.86738953],\n",
       "       [ 599528.49254247],\n",
       "       [ 244651.2097763 ],\n",
       "       [ 649739.60454907],\n",
       "       [  55133.95061741],\n",
       "       [ 562878.61107772],\n",
       "       [ 188780.37666232],\n",
       "       [ 564010.56268009],\n",
       "       [ 694555.76836331],\n",
       "       [ 710044.76319616],\n",
       "       [ 882875.36164038],\n",
       "       [ 449864.0006384 ],\n",
       "       [ 827496.78434598],\n",
       "       [ 511429.00725186],\n",
       "       [ 506699.26021981],\n",
       "       [ 642133.06266871],\n",
       "       [ 557207.74642708],\n",
       "       [ 571482.86243737],\n",
       "       [ 262696.41261706],\n",
       "       [ 260077.09697134],\n",
       "       [ 947335.32874456],\n",
       "       [ 574847.0730304 ],\n",
       "       [ 692205.78870802],\n",
       "       [ 839597.15877951],\n",
       "       [ 770700.39800029],\n",
       "       [ 908752.4205236 ],\n",
       "       [ 949999.24096345],\n",
       "       [ 177864.09332988],\n",
       "       [ 695599.48389093],\n",
       "       [ 562570.09333382],\n",
       "       [ 828113.81983378],\n",
       "       [ 947411.70264535],\n",
       "       [ 883676.13520386],\n",
       "       [ 897559.43367939],\n",
       "       [ 440030.30606931],\n",
       "       [ 645261.12407412],\n",
       "       [  67474.66037344],\n",
       "       [ 449220.87425591],\n",
       "       [ 367709.30685054],\n",
       "       [ 716063.63586192],\n",
       "       [ 513590.62106533],\n",
       "       [ 773785.5754393 ],\n",
       "       [ 760273.42380968],\n",
       "       [ 521340.10287019],\n",
       "       [ 694241.69730002],\n",
       "       [ 251747.11788602],\n",
       "       [ 376138.01161391],\n",
       "       [ 719457.33104483],\n",
       "       [  64389.48293443],\n",
       "       [ 378128.73811561],\n",
       "       [ 513731.43827011],\n",
       "       [ 763729.57807655],\n",
       "       [ 430025.07563461],\n",
       "       [ 901570.1643501 ],\n",
       "       [ 630308.98702017],\n",
       "       [ 131675.47257274],\n",
       "       [ 502784.7870852 ],\n",
       "       [ 559730.49601896],\n",
       "       [ 556091.2207119 ],\n",
       "       [ 502295.78646112],\n",
       "       [ 400612.89425561],\n",
       "       [ 827805.30208988],\n",
       "       [ 716802.19043631],\n",
       "       [ 267203.85685545],\n",
       "       [ 785960.57426235],\n",
       "       [1148192.3275986 ],\n",
       "       [ 686595.70205293],\n",
       "       [ 522381.38716034],\n",
       "       [ 441740.72844149],\n",
       "       [ 442401.88196667],\n",
       "       [ 769767.13182499]])"
      ]
     },
     "execution_count": 26,
     "metadata": {},
     "output_type": "execute_result"
    }
   ],
   "source": [
    "#y predicted\n",
    "y_pred = model.predict(X_test_scaled)\n",
    "y_pred"
   ]
  },
  {
   "cell_type": "code",
   "execution_count": 27,
   "id": "5617fcd2",
   "metadata": {},
   "outputs": [
    {
     "data": {
      "text/html": [
       "<div>\n",
       "<style scoped>\n",
       "    .dataframe tbody tr th:only-of-type {\n",
       "        vertical-align: middle;\n",
       "    }\n",
       "\n",
       "    .dataframe tbody tr th {\n",
       "        vertical-align: top;\n",
       "    }\n",
       "\n",
       "    .dataframe thead th {\n",
       "        text-align: right;\n",
       "    }\n",
       "</style>\n",
       "<table border=\"1\" class=\"dataframe\">\n",
       "  <thead>\n",
       "    <tr style=\"text-align: right;\">\n",
       "      <th></th>\n",
       "      <th>Price</th>\n",
       "    </tr>\n",
       "  </thead>\n",
       "  <tbody>\n",
       "    <tr>\n",
       "      <th>723</th>\n",
       "      <td>275000.0</td>\n",
       "    </tr>\n",
       "    <tr>\n",
       "      <th>641</th>\n",
       "      <td>715000.0</td>\n",
       "    </tr>\n",
       "    <tr>\n",
       "      <th>766</th>\n",
       "      <td>300000.0</td>\n",
       "    </tr>\n",
       "    <tr>\n",
       "      <th>368</th>\n",
       "      <td>965000.0</td>\n",
       "    </tr>\n",
       "    <tr>\n",
       "      <th>546</th>\n",
       "      <td>375000.0</td>\n",
       "    </tr>\n",
       "    <tr>\n",
       "      <th>...</th>\n",
       "      <td>...</td>\n",
       "    </tr>\n",
       "    <tr>\n",
       "      <th>311</th>\n",
       "      <td>600000.0</td>\n",
       "    </tr>\n",
       "    <tr>\n",
       "      <th>827</th>\n",
       "      <td>350000.0</td>\n",
       "    </tr>\n",
       "    <tr>\n",
       "      <th>134</th>\n",
       "      <td>394000.0</td>\n",
       "    </tr>\n",
       "    <tr>\n",
       "      <th>476</th>\n",
       "      <td>280000.0</td>\n",
       "    </tr>\n",
       "    <tr>\n",
       "      <th>900</th>\n",
       "      <td>745000.0</td>\n",
       "    </tr>\n",
       "  </tbody>\n",
       "</table>\n",
       "<p>291 rows × 1 columns</p>\n",
       "</div>"
      ],
      "text/plain": [
       "        Price\n",
       "723  275000.0\n",
       "641  715000.0\n",
       "766  300000.0\n",
       "368  965000.0\n",
       "546  375000.0\n",
       "..        ...\n",
       "311  600000.0\n",
       "827  350000.0\n",
       "134  394000.0\n",
       "476  280000.0\n",
       "900  745000.0\n",
       "\n",
       "[291 rows x 1 columns]"
      ]
     },
     "execution_count": 27,
     "metadata": {},
     "output_type": "execute_result"
    }
   ],
   "source": [
    "y_test"
   ]
  },
  {
   "cell_type": "code",
   "execution_count": 28,
   "id": "905d6463",
   "metadata": {},
   "outputs": [],
   "source": [
    "sq_error= (y_test - y_pred)**2"
   ]
  },
  {
   "cell_type": "code",
   "execution_count": null,
   "id": "865415ec",
   "metadata": {},
   "outputs": [],
   "source": []
  },
  {
   "cell_type": "code",
   "execution_count": 30,
   "id": "57051838",
   "metadata": {},
   "outputs": [
    {
     "data": {
      "text/plain": [
       "22082395168.474148"
      ]
     },
     "execution_count": 30,
     "metadata": {},
     "output_type": "execute_result"
    }
   ],
   "source": [
    "#mean sum of squred errors\n",
    "sq_error.mean().sum()"
   ]
  },
  {
   "cell_type": "code",
   "execution_count": 32,
   "id": "600662f9",
   "metadata": {},
   "outputs": [
    {
     "data": {
      "text/plain": [
       "148601.46422049194"
      ]
     },
     "execution_count": 32,
     "metadata": {},
     "output_type": "execute_result"
    }
   ],
   "source": [
    "#mean  sum of error\n",
    "(sq_error.mean().sum())**(1/2)"
   ]
  },
  {
   "cell_type": "markdown",
   "id": "366963f8",
   "metadata": {},
   "source": [
    "# Thank you"
   ]
  }
 ],
 "metadata": {
  "kernelspec": {
   "display_name": "Python 3 (ipykernel)",
   "language": "python",
   "name": "python3"
  },
  "language_info": {
   "codemirror_mode": {
    "name": "ipython",
    "version": 3
   },
   "file_extension": ".py",
   "mimetype": "text/x-python",
   "name": "python",
   "nbconvert_exporter": "python",
   "pygments_lexer": "ipython3",
   "version": "3.10.9"
  }
 },
 "nbformat": 4,
 "nbformat_minor": 5
}
